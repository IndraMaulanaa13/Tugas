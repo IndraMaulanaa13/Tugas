{
  "nbformat": 4,
  "nbformat_minor": 0,
  "metadata": {
    "colab": {
      "provenance": []
    },
    "kernelspec": {
      "name": "python3",
      "display_name": "Python 3"
    },
    "language_info": {
      "name": "python"
    }
  },
  "cells": [
    {
      "cell_type": "markdown",
      "source": [
        "mencari n ke berapa yang lebih dari 2 dari soal berikut\n",
        "1+1/2+1/3+...+1/n < 2"
      ],
      "metadata": {
        "id": "ePGxQEDVE9WJ"
      }
    },
    {
      "cell_type": "code",
      "execution_count": 1,
      "metadata": {
        "id": "lmOHmo6W_yxH",
        "colab": {
          "base_uri": "https://localhost:8080/"
        },
        "outputId": "fcb9eede-f712-42cc-e6c3-62995f13206c"
      },
      "outputs": [
        {
          "output_type": "stream",
          "name": "stdout",
          "text": [
            "Perhitungan:\n",
            "n = 1: jumlah = 1.000000\n",
            "n = 2: jumlah = 1.500000\n",
            "n = 3: jumlah = 1.833333\n",
            "n = 4: jumlah = 2.083333\n",
            "Jawaban: n = 4\n",
            "Karena: 1 + 1/2 + 1/3 + 1/4 = 2.083333 > 2\n"
          ]
        }
      ],
      "source": [
        "n = 1\n",
        "jumlah = 0\n",
        "\n",
        "print(\"Perhitungan:\")\n",
        "while jumlah <= 2:\n",
        "    suku = 1/n\n",
        "    jumlah = jumlah + suku\n",
        "    print(f\"n = {n}: jumlah = {jumlah:.6f}\")\n",
        "    if jumlah > 2:\n",
        "        break\n",
        "    n = n + 1\n",
        "\n",
        "print(f\"Jawaban: n = {n}\")\n",
        "print(f\"Karena: 1 + 1/2 + 1/3 + 1/4 = {jumlah:.6f} > 2\")\n"
      ]
    },
    {
      "cell_type": "code",
      "source": [],
      "metadata": {
        "id": "RJjKoG1rDYqs"
      },
      "execution_count": null,
      "outputs": []
    }
  ]
}
